{
 "cells": [
  {
   "cell_type": "code",
   "execution_count": 3,
   "id": "12d8682d",
   "metadata": {},
   "outputs": [
    {
     "name": "stdout",
     "output_type": "stream",
     "text": [
      "What is your Last Name or enter ZZZ to exit the program:Boring\n",
      "Boring\n",
      "What is your First Name:Kolton\n",
      "Kolton\n",
      "What is your GPA:3.5\n",
      "You have made the Dean's List\n"
     ]
    }
   ],
   "source": [
    "#Kolton Boring\n",
    "#Student Honor Roll and Deans List Tester\n",
    "# Allow students to enter their First, last name, and process the students GPA to determine if they made the Honor roll\n",
    "# or Deans list.\n",
    "\n",
    "last_n = \"ZZZ\"\n",
    "while (last_n == \"ZZZ\"):\n",
    "    last_n = print(input(\"What is your Last Name or enter ZZZ to exit the program:\"))\n",
    "    first_n = print(input(\"What is your First Name:\"))\n",
    "    student_gpa = float(input(\"What is your GPA:\"))\n",
    "    if (student_gpa >= 3.5):\n",
    "        print(\"You have made the Dean's List\")\n",
    "    elif (student_gpa >= 3.25):\n",
    "        print(\"You have made the Honor Roll\")\n",
    "    elif (student_gpa < 3.25):\n",
    "        print(\"You have not made the Honor Roll or Dean's List\")\n",
    " \n"
   ]
  },
  {
   "cell_type": "code",
   "execution_count": 4,
   "id": "87a217b5",
   "metadata": {},
   "outputs": [
    {
     "name": "stdout",
     "output_type": "stream",
     "text": [
      "What is your Last Name or enter ZZZ to exit the program:Storm\n",
      "Storm\n",
      "What is your First Name:John\n",
      "John\n",
      "What is your GPA:3.25\n",
      "You have made the Honor Roll\n"
     ]
    }
   ],
   "source": [
    "last_n = \"ZZZ\"\n",
    "while (last_n == \"ZZZ\"):\n",
    "    last_n = print(input(\"What is your Last Name or enter ZZZ to exit the program:\"))\n",
    "    first_n = print(input(\"What is your First Name:\"))\n",
    "    student_gpa = float(input(\"What is your GPA:\"))\n",
    "    if (student_gpa >= 3.5):\n",
    "        print(\"You have made the Dean's List\")\n",
    "    elif (student_gpa >= 3.25):\n",
    "        print(\"You have made the Honor Roll\")\n",
    "    elif (student_gpa < 3.25):\n",
    "        print(\"You have not made the Honor Roll or Dean's List\")"
   ]
  },
  {
   "cell_type": "code",
   "execution_count": 5,
   "id": "db588227",
   "metadata": {},
   "outputs": [
    {
     "name": "stdout",
     "output_type": "stream",
     "text": [
      "What is your Last Name or enter ZZZ to exit the program:Castleberry\n",
      "Castleberry\n",
      "What is your First Name:Cage\n",
      "Cage\n",
      "What is your GPA:3.2\n",
      "You have not made the Honor Roll or Dean's List\n"
     ]
    }
   ],
   "source": [
    "last_n = \"ZZZ\"\n",
    "while (last_n == \"ZZZ\"):\n",
    "    last_n = print(input(\"What is your Last Name or enter ZZZ to exit the program:\"))\n",
    "    first_n = print(input(\"What is your First Name:\"))\n",
    "    student_gpa = float(input(\"What is your GPA:\"))\n",
    "    if (student_gpa >= 3.5):\n",
    "        print(\"You have made the Dean's List\")\n",
    "    elif (student_gpa >= 3.25):\n",
    "        print(\"You have made the Honor Roll\")\n",
    "    elif (student_gpa < 3.25):\n",
    "        print(\"You have not made the Honor Roll or Dean's List\")"
   ]
  },
  {
   "cell_type": "code",
   "execution_count": 6,
   "id": "5ec7783b",
   "metadata": {},
   "outputs": [
    {
     "name": "stdout",
     "output_type": "stream",
     "text": [
      "What is your Last Name or enter ZZZ to exit the program:Johnson\n",
      "Johnson\n",
      "What is your First Name:Salem\n",
      "Salem\n",
      "What is your GPA:3.7\n",
      "You have made the Dean's List\n"
     ]
    }
   ],
   "source": [
    "last_n = \"ZZZ\"\n",
    "while (last_n == \"ZZZ\"):\n",
    "    last_n = print(input(\"What is your Last Name or enter ZZZ to exit the program:\"))\n",
    "    first_n = print(input(\"What is your First Name:\"))\n",
    "    student_gpa = float(input(\"What is your GPA:\"))\n",
    "    if (student_gpa >= 3.5):\n",
    "        print(\"You have made the Dean's List\")\n",
    "    elif (student_gpa >= 3.25):\n",
    "        print(\"You have made the Honor Roll\")\n",
    "    elif (student_gpa < 3.25):\n",
    "        print(\"You have not made the Honor Roll or Dean's List\")"
   ]
  },
  {
   "cell_type": "code",
   "execution_count": 7,
   "id": "2fc5dea3",
   "metadata": {},
   "outputs": [
    {
     "name": "stdout",
     "output_type": "stream",
     "text": [
      "What is your Last Name or enter ZZZ to exit the program:Fitzpatrick\n",
      "Fitzpatrick\n",
      "What is your First Name:Taylor\n",
      "Taylor\n",
      "What is your GPA:3.33\n",
      "You have made the Honor Roll\n"
     ]
    }
   ],
   "source": [
    "last_n = \"ZZZ\"\n",
    "while (last_n == \"ZZZ\"):\n",
    "    last_n = print(input(\"What is your Last Name or enter ZZZ to exit the program:\"))\n",
    "    first_n = print(input(\"What is your First Name:\"))\n",
    "    student_gpa = float(input(\"What is your GPA:\"))\n",
    "    if (student_gpa >= 3.5):\n",
    "        print(\"You have made the Dean's List\")\n",
    "    elif (student_gpa >= 3.25):\n",
    "        print(\"You have made the Honor Roll\")\n",
    "    elif (student_gpa < 3.25):\n",
    "        print(\"You have not made the Honor Roll or Dean's List\")"
   ]
  },
  {
   "cell_type": "code",
   "execution_count": null,
   "id": "c3ae3893",
   "metadata": {},
   "outputs": [],
   "source": []
  }
 ],
 "metadata": {
  "kernelspec": {
   "display_name": "Python 3 (ipykernel)",
   "language": "python",
   "name": "python3"
  },
  "language_info": {
   "codemirror_mode": {
    "name": "ipython",
    "version": 3
   },
   "file_extension": ".py",
   "mimetype": "text/x-python",
   "name": "python",
   "nbconvert_exporter": "python",
   "pygments_lexer": "ipython3",
   "version": "3.9.12"
  }
 },
 "nbformat": 4,
 "nbformat_minor": 5
}
